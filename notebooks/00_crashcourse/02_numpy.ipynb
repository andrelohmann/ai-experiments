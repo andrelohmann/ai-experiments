{
 "cells": [
  {
   "cell_type": "code",
   "execution_count": null,
   "id": "505f7690-29e5-4de0-88c0-e014789eb3d7",
   "metadata": {},
   "outputs": [],
   "source": [
    "import numpy as np"
   ]
  },
  {
   "cell_type": "code",
   "execution_count": null,
   "id": "e7d2c4b4-a91c-4555-a017-c71104bbe335",
   "metadata": {},
   "outputs": [],
   "source": [
    "a = np.array([1, 2, 3, 4, 5])"
   ]
  },
  {
   "cell_type": "code",
   "execution_count": null,
   "id": "8809ea4f-2169-47e4-b9fc-abef0a9db414",
   "metadata": {},
   "outputs": [],
   "source": [
    "# numpy multiplies each list element by two\n",
    "print(a * 2)\n",
    "\n",
    "# a stadard list is just concatidated times the multiplier\n",
    "[1, 2, 3, 4] * 2"
   ]
  },
  {
   "cell_type": "code",
   "execution_count": null,
   "id": "74370d2a-0ea8-42d0-b0f3-11b360935f45",
   "metadata": {},
   "outputs": [],
   "source": [
    "matrix = np.array([\n",
    "    [1, 2, 3],\n",
    "    [4, 5, 6]\n",
    "])"
   ]
  },
  {
   "cell_type": "code",
   "execution_count": null,
   "id": "d7be16fd-79a7-4f0f-b0f0-34332a4f9a92",
   "metadata": {},
   "outputs": [],
   "source": [
    "print(matrix)\n",
    "\n",
    "# first column of first row\n",
    "print(matrix[0, 0])\n",
    "\n",
    "# first column of second row\n",
    "print(matrix[1, 0])\n",
    "\n",
    "# first columns of all rows\n",
    "print(matrix[:, 0])"
   ]
  }
 ],
 "metadata": {
  "kernelspec": {
   "display_name": "Python 3 (ipykernel)",
   "language": "python",
   "name": "python3"
  },
  "language_info": {
   "codemirror_mode": {
    "name": "ipython",
    "version": 3
   },
   "file_extension": ".py",
   "mimetype": "text/x-python",
   "name": "python",
   "nbconvert_exporter": "python",
   "pygments_lexer": "ipython3",
   "version": "3.11.9"
  }
 },
 "nbformat": 4,
 "nbformat_minor": 5
}
