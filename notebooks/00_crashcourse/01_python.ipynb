{
 "cells": [
  {
   "cell_type": "code",
   "execution_count": null,
   "id": "505f7690-29e5-4de0-88c0-e014789eb3d7",
   "metadata": {},
   "outputs": [],
   "source": [
    "print(\"hello world\")"
   ]
  },
  {
   "cell_type": "code",
   "execution_count": null,
   "id": "9c8ba626-0552-48e5-a119-c28f2a0007c7",
   "metadata": {},
   "outputs": [],
   "source": [
    "2 + 2"
   ]
  },
  {
   "cell_type": "code",
   "execution_count": null,
   "id": "bcdf08a5-4b8c-47a8-9592-1b926f400e80",
   "metadata": {},
   "outputs": [],
   "source": [
    "print(2 + 4)\n",
    "print(\"2\" + \"4\")"
   ]
  },
  {
   "cell_type": "code",
   "execution_count": null,
   "id": "ef39c289-4e19-482c-ac8b-805519d8288a",
   "metadata": {},
   "outputs": [],
   "source": [
    "print(int(\"2\") + 4)\n",
    "print(\"2\" + str(4))"
   ]
  },
  {
   "cell_type": "code",
   "execution_count": null,
   "id": "aa0ff7b3-d1e4-40e4-b8cb-5b95db071be1",
   "metadata": {},
   "outputs": [],
   "source": [
    "l = [1, 2, 3, 4 ,5, 6, 7]\n",
    "for i in l:\n",
    "    print(i)"
   ]
  },
  {
   "cell_type": "code",
   "execution_count": null,
   "id": "7497d300-a13a-4025-9ded-1af8f92ac168",
   "metadata": {},
   "outputs": [],
   "source": [
    "max(1, 5, 3)"
   ]
  },
  {
   "cell_type": "code",
   "execution_count": null,
   "id": "2286e8b3-4ec1-4607-8448-2a6fd9199904",
   "metadata": {},
   "outputs": [],
   "source": []
  }
 ],
 "metadata": {
  "kernelspec": {
   "display_name": "Python 3 (ipykernel)",
   "language": "python",
   "name": "python3"
  },
  "language_info": {
   "codemirror_mode": {
    "name": "ipython",
    "version": 3
   },
   "file_extension": ".py",
   "mimetype": "text/x-python",
   "name": "python",
   "nbconvert_exporter": "python",
   "pygments_lexer": "ipython3",
   "version": "3.11.9"
  }
 },
 "nbformat": 4,
 "nbformat_minor": 5
}
