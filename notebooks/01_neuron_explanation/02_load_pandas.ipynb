{
 "cells": [
  {
   "cell_type": "markdown",
   "id": "a16e725d-f452-4d32-8781-8a74c435551a",
   "metadata": {},
   "source": [
    "# Load CSV with Pandas\n",
    "\n",
    "Load a csv file and do operations on it\n",
    "\n",
    "In our example we are loading a list of car metrics, to later make predictions of the gasoline consumptions based on some other metrics of a car that is going to be build."
   ]
  },
  {
   "cell_type": "code",
   "execution_count": null,
   "id": "4d9fa297-3dec-4cd6-9062-e4a46fcfedaa",
   "metadata": {},
   "outputs": [],
   "source": [
    "# function to calculate L per 100km based on Mile per gallon\n",
    "def mlg_to_l_per_100km(mpg):\n",
    "    LITERS_PER_GALLON = 3.785411784\n",
    "    KILOMETERS_PER_MILE = 1.609344\n",
    "\n",
    "    return (100 * LITERS_PER_GALLON) / (KILOMETERS_PER_MILE * mpg)"
   ]
  },
  {
   "cell_type": "code",
   "execution_count": null,
   "id": "ece717ac-b00e-4bdb-8770-a6b9ef45960b",
   "metadata": {},
   "outputs": [],
   "source": [
    "print(mlg_to_l_per_100km(100))"
   ]
  },
  {
   "cell_type": "code",
   "execution_count": null,
   "id": "f288c1e8-6b06-433e-b042-1ae3bc095d82",
   "metadata": {},
   "outputs": [],
   "source": [
    "import pandas as pd"
   ]
  },
  {
   "cell_type": "code",
   "execution_count": null,
   "id": "967d0f83-e081-4daa-bc78-6c19fc2418d0",
   "metadata": {},
   "outputs": [],
   "source": [
    "# load the dataset\n",
    "df = pd.read_csv(\"./data/mpg-dataset.csv\")\n",
    "print(df)"
   ]
  },
  {
   "cell_type": "code",
   "execution_count": null,
   "id": "c7fc97e6-62a3-4705-b169-7797023703c6",
   "metadata": {},
   "outputs": [],
   "source": [
    "# read the cylinders, horsepower and weight as X\n",
    "X = df[[\"cylinders\", \"horsepower\", \"weight\"]]\n",
    "y = mlg_to_l_per_100km(df[\"mpg\"])"
   ]
  },
  {
   "cell_type": "code",
   "execution_count": null,
   "id": "54b610e4-d7c6-4e4b-b754-a8b6093e0128",
   "metadata": {},
   "outputs": [],
   "source": [
    "import numpy as np\n",
    "from sklearn.linear_model import LinearRegression\n",
    "\n",
    "model = LinearRegression(fit_intercept=True)\n",
    "\n",
    "# teach the model\n",
    "model.fit(X, y)\n",
    "\n",
    "# return the learned coefficients\n",
    "# the coefficients equal the weights of the inputs\n",
    "print(model.coef_)\n",
    "\n",
    "# return the learned intercept\n",
    "print(model.intercept_)"
   ]
  },
  {
   "cell_type": "code",
   "execution_count": null,
   "id": "24e10dc6-0942-49b9-ac1d-aa019e73a319",
   "metadata": {},
   "outputs": [],
   "source": [
    "# Predict the L per 100 Km for our car\n",
    "# with 8 cylinders, 200 Horsepowers and 2500kg weight\n",
    "print(model.predict([\n",
    "    [8, 200, 2500]\n",
    "])) "
   ]
  },
  {
   "cell_type": "code",
   "execution_count": null,
   "id": "1f177dc5-d89a-48e7-a7fa-e0dbd1c2829e",
   "metadata": {},
   "outputs": [],
   "source": []
  }
 ],
 "metadata": {
  "kernelspec": {
   "display_name": "Python 3 (ipykernel)",
   "language": "python",
   "name": "python3"
  },
  "language_info": {
   "codemirror_mode": {
    "name": "ipython",
    "version": 3
   },
   "file_extension": ".py",
   "mimetype": "text/x-python",
   "name": "python",
   "nbconvert_exporter": "python",
   "pygments_lexer": "ipython3",
   "version": "3.11.9"
  }
 },
 "nbformat": 4,
 "nbformat_minor": 5
}
