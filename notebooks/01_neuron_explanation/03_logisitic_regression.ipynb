{
 "cells": [
  {
   "cell_type": "markdown",
   "id": "dec3a65a-d643-4136-aea5-c29f593f8ff3",
   "metadata": {},
   "source": [
    "# Logistic Regression\n",
    "\n",
    "The logistic regression equals the linear regression encapsulated in an activation function to normalize the output values to a value between 0 and 1 (true or false).\n",
    "\n",
    "In general the sigmoid or ReLU function is used to achive the normalization."
   ]
  },
  {
   "cell_type": "code",
   "execution_count": null,
   "id": "9b8948f2-b302-41df-8827-098f7415a030",
   "metadata": {},
   "outputs": [],
   "source": [
    "# As an example we want to predict, if a student will pass an exam\n",
    "# based on the hours he has learned\n",
    "\n",
    "# How many hours the students have learned\n",
    "X = [\n",
    "    [50],\n",
    "    [60],\n",
    "    [70],\n",
    "    [20],\n",
    "    [10],\n",
    "    [30]\n",
    "]\n",
    "\n",
    "# Did they passed the exam (1 = true, 0 = false)\n",
    "y = [\n",
    "    1,\n",
    "    1,\n",
    "    1,\n",
    "    0,\n",
    "    0,\n",
    "    0\n",
    "]"
   ]
  },
  {
   "cell_type": "code",
   "execution_count": null,
   "id": "6d2810e1-96f2-4601-84a5-94ef0256cbc8",
   "metadata": {},
   "outputs": [],
   "source": [
    "# This time we are using the Logistic Regression\n",
    "from sklearn.linear_model import LogisticRegression\n",
    "\n",
    "# Set C to a huge value, for the regularization to be less strong\n",
    "# Regularization is a method of preventing overfitting,\n",
    "# which is a common problem in machine learning.\n",
    "# Overfitting means that your model learns too much from the specific data you have,\n",
    "# and fails to generalize well to new or unseen data.\n",
    "# This can lead to poor predictions and low performance.\n",
    "model = LogisticRegression(C = 100000)\n",
    "\n",
    "model.fit(X, y)\n"
   ]
  },
  {
   "cell_type": "code",
   "execution_count": null,
   "id": "9603e12c-a1ef-4be2-888b-8992e7b99557",
   "metadata": {},
   "outputs": [],
   "source": [
    "# Student who learned 33 hours will higly likely not pass\n",
    "# return as a boolean\n",
    "print(model.predict([\n",
    "    [35]\n",
    "]))\n",
    "\n",
    "# return an array of percentage probability not to pass, percentage probability to pass\n",
    "print(model.predict_proba([\n",
    "    [35]\n",
    "]))"
   ]
  },
  {
   "cell_type": "code",
   "execution_count": null,
   "id": "55f8935c-15d5-412f-9a4c-8176c6c24b99",
   "metadata": {},
   "outputs": [],
   "source": [
    "# Student who learned 44 hours will higly likely pass\n",
    "# return as a boolean\n",
    "print(model.predict([\n",
    "    [44]\n",
    "]))\n",
    "\n",
    "# return an array of percentage probability not to pass, percentage probability to pass\n",
    "print(model.predict_proba([\n",
    "    [44]\n",
    "]))"
   ]
  },
  {
   "cell_type": "code",
   "execution_count": null,
   "id": "125ae2c4-ab79-44f0-8f21-ee58a6a9eeff",
   "metadata": {},
   "outputs": [],
   "source": []
  }
 ],
 "metadata": {
  "kernelspec": {
   "display_name": "Python 3 (ipykernel)",
   "language": "python",
   "name": "python3"
  },
  "language_info": {
   "codemirror_mode": {
    "name": "ipython",
    "version": 3
   },
   "file_extension": ".py",
   "mimetype": "text/x-python",
   "name": "python",
   "nbconvert_exporter": "python",
   "pygments_lexer": "ipython3",
   "version": "3.11.9"
  }
 },
 "nbformat": 4,
 "nbformat_minor": 5
}
