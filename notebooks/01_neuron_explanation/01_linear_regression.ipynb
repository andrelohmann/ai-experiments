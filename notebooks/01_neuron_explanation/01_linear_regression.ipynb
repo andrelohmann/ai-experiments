{
 "cells": [
  {
   "cell_type": "markdown",
   "id": "9e6bd502-b82b-4e12-96c1-6c42029b25b8",
   "metadata": {},
   "source": [
    "# Linear Regression"
   ]
  },
  {
   "cell_type": "markdown",
   "id": "e84032b1-eb40-4245-be8e-e4edc7f99b02",
   "metadata": {},
   "source": [
    "calculate kilometers to miles"
   ]
  },
  {
   "cell_type": "code",
   "execution_count": null,
   "id": "f27a6d05-6ce5-4fd0-8cb5-465947cea6d3",
   "metadata": {},
   "outputs": [],
   "source": [
    "# rounded values\n",
    "\n",
    "# Kilometers\n",
    "X = [\n",
    "    10,\n",
    "    15,\n",
    "    60\n",
    "]\n",
    "\n",
    "# Miles\n",
    "y = [\n",
    "    6.2,\n",
    "    9.3,\n",
    "    37.3\n",
    "]"
   ]
  },
  {
   "cell_type": "code",
   "execution_count": null,
   "id": "32e41494-431e-4042-8b1e-3627edc30709",
   "metadata": {},
   "outputs": [],
   "source": [
    "# https://scikit-learn.org/stable/modules/linear_model.html\n",
    "# prepare the model\n",
    "import numpy as np\n",
    "from sklearn.linear_model import LinearRegression\n",
    "\n",
    "# Intercept equals the bias\n",
    "# since we have no bias in km -> miles, we can switch it off here\n",
    "model = LinearRegression(fit_intercept=False)\n",
    "\n",
    "# teach the model\n",
    "model.fit(np.asarray(X).reshape(-1, 1), y)\n",
    "\n",
    "# return the learned coefficient\n",
    "model.coef_"
   ]
  },
  {
   "cell_type": "code",
   "execution_count": null,
   "id": "696c1180-01d5-4c06-b35c-eda30542d96f",
   "metadata": {},
   "outputs": [],
   "source": [
    "# predict an array of kilometers to miles\n",
    "model.predict(np.asarray([\n",
    "    100,\n",
    "    120,\n",
    "    85\n",
    "]).reshape(-1, 1))"
   ]
  },
  {
   "cell_type": "markdown",
   "id": "b2c9a892-eb05-43aa-8baf-2657e45502f2",
   "metadata": {},
   "source": [
    "# Adding bias"
   ]
  },
  {
   "cell_type": "markdown",
   "id": "4ca5ea53-709a-4649-85a2-86faa718e116",
   "metadata": {},
   "source": [
    "degree celsius to fahrenheit\n",
    "\n",
    "Fahrenheit = Celsius * 1,8 + 32"
   ]
  },
  {
   "cell_type": "code",
   "execution_count": null,
   "id": "db4c03ea-3d23-412d-af16-bd79a8b39245",
   "metadata": {},
   "outputs": [],
   "source": [
    "# Celsius\n",
    "X_c = np.array([\n",
    "    -10,\n",
    "    0,\n",
    "    20\n",
    "])\n",
    "\n",
    "# Fahrenheit\n",
    "y_f = [\n",
    "    14,\n",
    "    32,\n",
    "    68\n",
    "]"
   ]
  },
  {
   "cell_type": "code",
   "execution_count": null,
   "id": "ed1f2273-81ee-41d4-ae2f-f917c6f1651d",
   "metadata": {},
   "outputs": [],
   "source": [
    "# Intercept equals the bias\n",
    "# our intercept in C -> F equals +32\n",
    "model_cf = LinearRegression(fit_intercept=True)\n",
    "\n",
    "# teach the model\n",
    "model_cf.fit(X_c.reshape(-1, 1), y_f)\n",
    "\n",
    "# return the learned coefficient\n",
    "print(model_cf.coef_)\n",
    "\n",
    "# return the interception\n",
    "print(model_cf.intercept_)"
   ]
  },
  {
   "cell_type": "code",
   "execution_count": null,
   "id": "dd7b8d68-d6ef-4c44-bb2c-b7695ecf1b43",
   "metadata": {},
   "outputs": [],
   "source": [
    "# predict an array of kilometers to miles\n",
    "model_cf.predict(np.asarray([\n",
    "    10,\n",
    "    20,\n",
    "    30,\n",
    "    100\n",
    "]).reshape(-1, 1))"
   ]
  },
  {
   "cell_type": "code",
   "execution_count": null,
   "id": "cc4a47bf-2b20-4f4e-981c-a74ed613799f",
   "metadata": {},
   "outputs": [],
   "source": []
  }
 ],
 "metadata": {
  "kernelspec": {
   "display_name": "Python 3 (ipykernel)",
   "language": "python",
   "name": "python3"
  },
  "language_info": {
   "codemirror_mode": {
    "name": "ipython",
    "version": 3
   },
   "file_extension": ".py",
   "mimetype": "text/x-python",
   "name": "python",
   "nbconvert_exporter": "python",
   "pygments_lexer": "ipython3",
   "version": "3.11.9"
  }
 },
 "nbformat": 4,
 "nbformat_minor": 5
}
