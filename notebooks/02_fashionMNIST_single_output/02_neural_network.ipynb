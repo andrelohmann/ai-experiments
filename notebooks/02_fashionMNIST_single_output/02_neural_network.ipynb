{
 "cells": [
  {
   "cell_type": "markdown",
   "id": "be5a546f-1ed2-4a4f-9a3a-15400becf8d0",
   "metadata": {},
   "source": [
    "# Create and Train our model"
   ]
  },
  {
   "cell_type": "code",
   "execution_count": null,
   "id": "1c9f040b-78db-4bb1-acfe-43f7b649d24f",
   "metadata": {},
   "outputs": [],
   "source": [
    "# Import the Data\n",
    "\n",
    "import gzip\n",
    "import numpy as np\n",
    "\n",
    "def open_images(filename):\n",
    "    with gzip.open(filename, \"rb\") as file:\n",
    "        data = file.read()\n",
    "        # read the buffer into a numpy array\n",
    "        # \n",
    "        return np.frombuffer(data, dtype=np.uint8, offset=16)\\\n",
    "            .reshape(-1,28,28)\\\n",
    "            .astype(np.float32)\n",
    "\n",
    "def open_labels(filename):\n",
    "    with gzip.open(filename, \"rb\") as file:\n",
    "        data = file.read()\n",
    "        # read the buffer into a numpy array\n",
    "        return np.frombuffer(data, dtype=np.uint8, offset=8)\n",
    "\n",
    "X_train = open_images(\"./data/train-images-idx3-ubyte.gz\")\n",
    "y_train = open_labels(\"./data/train-labels-idx1-ubyte.gz\")\n",
    "\n",
    "# t-shirt = 0\n",
    "# as with our first network, we only want to train for t-shirt or not t-shirt\n",
    "# therefor we will return true for 0 and false for 1-9\n",
    "# y_train == 0 <- iterated over the numpay array and compares every element to be \"0\"\n",
    "# the return value is another numpay array consisting of true and false values (\"0\" or not \"0\")\n",
    "y_train = y_train == 0\n",
    "\n",
    "# modify the numpy array of 60000 datasets with 28x28 pixels\n",
    "# to 60000 datasets of 784 values (single array instead of matrix)\n",
    "training_data = X_train.reshape(60000, 784)"
   ]
  },
  {
   "cell_type": "code",
   "execution_count": null,
   "id": "ced5c745-c742-4ee6-8e04-7e5cf51a7ce7",
   "metadata": {},
   "outputs": [],
   "source": [
    "# Use sequentially representation of the model\n",
    "from tensorflow.keras.models import Sequential\n",
    "from tensorflow.keras.layers import Dense\n",
    "from tensorflow.keras import Input"
   ]
  },
  {
   "cell_type": "code",
   "execution_count": null,
   "id": "db06499e-c45c-489a-9fca-94ce1bc92f59",
   "metadata": {},
   "outputs": [],
   "source": [
    "# https://keras.io/guides/sequential_model/\n",
    "model = Sequential()\n",
    "\n",
    "# Add 784 input values - Input(shape= (tupel with one element) of 784 (28x28 pixel)\n",
    "model.add(Input(shape=(784,)))\n",
    "# Add hidden layer as Dense (all weights are connected to all neurons)\n",
    "# with 100 Neurons and activation function of type sigmoid\n",
    "# (\"relu\" is an alternative activation function with a different curve)\n",
    "model.add(Dense(100, activation=\"sigmoid\"))\n",
    "# Add the output Dense layer with only one Neuron\n",
    "model.add(Dense(1, activation=\"sigmoid\"))\n",
    "\n",
    "# Compile the model for optimized runtime on e.g. GPU\n",
    "# Optimizer - optimize weights on backpropagation - use sdg (stochastic gradient descent)\n",
    "# finding the minimum of the function by iterating the tangent\n",
    "# The accuraycy metric also prints the current accuracy after each training epoch\n",
    "# The loss function is a mathematical construct to minimize the cost function\n",
    "# cost function = cost for distance between weight alignment on backpropagation\n",
    "model.compile(optimizer=\"sgd\", loss=\"binary_crossentropy\", metrics=[\"accuracy\"])"
   ]
  },
  {
   "cell_type": "code",
   "execution_count": null,
   "id": "e109a374-363b-42ac-bbaf-a03cc749d7b8",
   "metadata": {},
   "outputs": [],
   "source": [
    "# Training the model\n",
    "# handover training images, labels,\n",
    "# epochs <- how often it should be trained,\n",
    "# batch_size <- number of items per batch\n",
    "model.fit(training_data, y_train, epochs=10, batch_size=1000)"
   ]
  },
  {
   "cell_type": "markdown",
   "id": "cf09bee8-7884-43c6-8f0f-35ab44d60f99",
   "metadata": {},
   "source": [
    "# Test our model"
   ]
  },
  {
   "cell_type": "code",
   "execution_count": null,
   "id": "46ad3cc0-c903-4081-aef0-5f4e469c14f8",
   "metadata": {},
   "outputs": [],
   "source": [
    "# plot the image with maplotlib\n",
    "%matplotlib inline\n",
    "import matplotlib.pyplot as plt"
   ]
  },
  {
   "cell_type": "code",
   "execution_count": null,
   "id": "7e3eb813-c371-48d4-bf03-91cbb4a7ae0e",
   "metadata": {},
   "outputs": [],
   "source": [
    "# show the first image from array and use colormap grey_r (grey reverse)\n",
    "plt.imshow(X_train[0], cmap=\"gray_r\")\n",
    "plt.show()"
   ]
  },
  {
   "cell_type": "code",
   "execution_count": null,
   "id": "1f56ca98-a620-4804-b74f-322cd38d2aa2",
   "metadata": {},
   "outputs": [],
   "source": [
    "# image needs to be reshaped from 28 x 28 matrix to single 784 items array\n",
    "item0 = X_train[0].reshape(1, 784)\n",
    "item0.shape"
   ]
  },
  {
   "cell_type": "code",
   "execution_count": null,
   "id": "8593b3e9-8a31-4522-adcb-749d35b6c81e",
   "metadata": {},
   "outputs": [],
   "source": [
    "# validate the first image\n",
    "model.predict(item0)\n",
    "# result should be in the -50% probability of being a t-shirt"
   ]
  },
  {
   "cell_type": "code",
   "execution_count": null,
   "id": "5391abb2-fb97-430a-b3c9-7086d3f99510",
   "metadata": {},
   "outputs": [],
   "source": [
    "# show the second image from array and use colormap grey_r (grey reverse)\n",
    "plt.imshow(X_train[1], cmap=\"gray_r\")\n",
    "plt.show()"
   ]
  },
  {
   "cell_type": "code",
   "execution_count": null,
   "id": "eaecfc5c-b1c7-4986-9d47-f698b943079f",
   "metadata": {},
   "outputs": [],
   "source": [
    "# image needs to be reshaped from 28 x 28 matrix to single 784 items array\n",
    "item1 = X_train[1].reshape(1, 784)\n",
    "item1.shape"
   ]
  },
  {
   "cell_type": "code",
   "execution_count": null,
   "id": "78ca9ef1-14bf-48cb-8c29-8f4e89fa77bb",
   "metadata": {},
   "outputs": [],
   "source": [
    "# validate the first image\n",
    "model.predict(item1)\n",
    "# result should be in the +50% probability of being a t-shirt"
   ]
  },
  {
   "cell_type": "markdown",
   "id": "2c9700d7-1e85-45e0-8359-9d13b57ad1e4",
   "metadata": {},
   "source": [
    "# Manually validate against full Data"
   ]
  },
  {
   "cell_type": "code",
   "execution_count": null,
   "id": "22e55c1c-81dc-481c-8d0f-46b80a699b13",
   "metadata": {},
   "outputs": [],
   "source": [
    "# Predict against the whole list of items\n",
    "y_trained_predictions = model.predict(training_data)\n",
    "# The array consists of 60000 single values between 0 and 1 (0% to 100% probability)\n",
    "\n",
    "# Round the values (<0.5 -> 0 and > 0.5 ->1)\n",
    "# and reshape to a single array\n",
    "prediction_result = np.round(y_trained_predictions).reshape(60000)\n",
    "\n",
    "# compare prediction result to original value\n",
    "success_rate = prediction_result == y_train\n",
    "# return value is an array with booleans - true for matches and false for differences\n",
    "\n",
    "# return the percentage of correct matches\n",
    "np.mean(success_rate)"
   ]
  },
  {
   "cell_type": "markdown",
   "id": "3f594a7d-0f76-459e-ba54-437173da6b19",
   "metadata": {},
   "source": [
    "# Validate with kera included functionality"
   ]
  },
  {
   "cell_type": "code",
   "execution_count": null,
   "id": "fe3b6d53-74ab-40a5-aad9-85e339a1e348",
   "metadata": {},
   "outputs": [],
   "source": [
    "model.evaluate(training_data, y_train)\n",
    "# return value is an array with second value being the probable accuracy"
   ]
  },
  {
   "cell_type": "code",
   "execution_count": null,
   "id": "af6bd730-0e72-407f-8ac6-d17145e0ca93",
   "metadata": {},
   "outputs": [],
   "source": [
    "# Read docuementation of a function\n",
    "model.evaluate?"
   ]
  },
  {
   "cell_type": "code",
   "execution_count": null,
   "id": "7d0d9a38-df0b-4c4c-9a03-48cf0d1b3e75",
   "metadata": {},
   "outputs": [],
   "source": [
    "print(model.metrics_names)"
   ]
  },
  {
   "cell_type": "markdown",
   "id": "ab18c1ca-e51d-4fc9-9e75-655c86068af4",
   "metadata": {},
   "source": [
    "# Validate the model with test data"
   ]
  },
  {
   "cell_type": "code",
   "execution_count": null,
   "id": "f340ce88-1647-4e93-b993-d92d0648305e",
   "metadata": {},
   "outputs": [],
   "source": [
    "# If you only have one dataset available for your training,\n",
    "# this dataset can be split up into training and test data\n",
    "\n",
    "# from sklearn.model_selection import train_test_split\n",
    "# X_train, X_test, y_train, y_test = train_test_split(X, y)\n",
    "\n",
    "# We are not using it in our example, as we have already a split up dataset"
   ]
  },
  {
   "cell_type": "code",
   "execution_count": null,
   "id": "17b02ab0-8d5a-4b27-92d0-303fa0c3acb8",
   "metadata": {},
   "outputs": [],
   "source": [
    "# Prepare the test dataset\n",
    "X_test = open_images(\"./data/t10k-images-idx3-ubyte.gz\")\n",
    "y_test = open_labels(\"./data/t10k-labels-idx1-ubyte.gz\")\n",
    "\n",
    "y_test = y_test == 0\n",
    "\n",
    "X_test = X_test.reshape(10000, 784)"
   ]
  },
  {
   "cell_type": "code",
   "execution_count": null,
   "id": "4cc501d6-7e41-45da-aeb1-e43200107359",
   "metadata": {},
   "outputs": [],
   "source": [
    "# validating accuracy against test dataset\n",
    "model.evaluate(X_test, y_test)"
   ]
  },
  {
   "cell_type": "code",
   "execution_count": null,
   "id": "fc4a4146-f376-4c78-8b6f-267f8224579f",
   "metadata": {},
   "outputs": [],
   "source": []
  }
 ],
 "metadata": {
  "kernelspec": {
   "display_name": "Python 3 (ipykernel)",
   "language": "python",
   "name": "python3"
  },
  "language_info": {
   "codemirror_mode": {
    "name": "ipython",
    "version": 3
   },
   "file_extension": ".py",
   "mimetype": "text/x-python",
   "name": "python",
   "nbconvert_exporter": "python",
   "pygments_lexer": "ipython3",
   "version": "3.11.9"
  }
 },
 "nbformat": 4,
 "nbformat_minor": 5
}
