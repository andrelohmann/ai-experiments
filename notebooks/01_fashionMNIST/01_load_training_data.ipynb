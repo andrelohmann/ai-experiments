{
 "cells": [
  {
   "cell_type": "code",
   "execution_count": null,
   "id": "d625756c-af15-4bac-ba3a-c96b8cf96c1e",
   "metadata": {},
   "outputs": [],
   "source": [
    "# MNIST Data\n",
    "\n",
    "import gzip\n",
    "import numpy as np\n",
    "\n",
    "def open_images(filename):\n",
    "    with gzip.open(filename, \"rb\") as file:\n",
    "        data = file.read()\n",
    "        # read the buffer into a numpy array\n",
    "        # \n",
    "        return np.frombuffer(data, dtype=np.uint8, offset=16)\\\n",
    "            .reshape(-1,28,28)\\\n",
    "            .astype(np.float32)\n",
    "\n",
    "def open_labels(filename):\n",
    "    with gzip.open(filename, \"rb\") as file:\n",
    "        data = file.read()\n",
    "        # read the buffer into a numpy array\n",
    "        return np.frombuffer(data, dtype=np.uint8, offset=8)"
   ]
  },
  {
   "cell_type": "code",
   "execution_count": null,
   "id": "ec516754-a8b2-4eba-a0fd-6d1271972c45",
   "metadata": {},
   "outputs": [],
   "source": [
    "X_train = open_images(\"./data/train-images-idx3-ubyte.gz\")"
   ]
  },
  {
   "cell_type": "code",
   "execution_count": null,
   "id": "99525fee-f2d4-49c0-9a6f-fb96936413cf",
   "metadata": {},
   "outputs": [],
   "source": [
    "y_train = open_labels(\"./data/train-labels-idx1-ubyte.gz\")"
   ]
  },
  {
   "cell_type": "code",
   "execution_count": null,
   "id": "971a7188-c337-46e6-a4af-f491f549fda2",
   "metadata": {},
   "outputs": [],
   "source": [
    "# Echo X_train\n",
    "X_train\n",
    "X_train.shape"
   ]
  },
  {
   "cell_type": "code",
   "execution_count": null,
   "id": "72abb957-e4f5-4e72-84fc-92851a186508",
   "metadata": {},
   "outputs": [],
   "source": [
    "# plot the image with maplotlib\n",
    "%matplotlib inline\n",
    "import matplotlib.pyplot as plt\n",
    "\n",
    "# show the first image from array and use colormap grey_r (grey reverse)\n",
    "plt.imshow(X_train[0], cmap=\"gray_r\")\n",
    "plt.show()"
   ]
  },
  {
   "cell_type": "code",
   "execution_count": null,
   "id": "9979e4fd-a6ce-4529-a077-2a98494c10b6",
   "metadata": {},
   "outputs": [],
   "source": [
    "y_train"
   ]
  }
 ],
 "metadata": {
  "kernelspec": {
   "display_name": "Python 3 (ipykernel)",
   "language": "python",
   "name": "python3"
  },
  "language_info": {
   "codemirror_mode": {
    "name": "ipython",
    "version": 3
   },
   "file_extension": ".py",
   "mimetype": "text/x-python",
   "name": "python",
   "nbconvert_exporter": "python",
   "pygments_lexer": "ipython3",
   "version": "3.11.9"
  }
 },
 "nbformat": 4,
 "nbformat_minor": 5
}
